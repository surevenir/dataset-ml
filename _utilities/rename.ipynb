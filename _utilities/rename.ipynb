{
 "cells": [
  {
   "cell_type": "code",
   "execution_count": null,
   "metadata": {},
   "outputs": [
    {
     "name": "stdout",
     "output_type": "stream",
     "text": [
      "Semua gambar dalam folder tempat-lilin telah berhasil di-rename.\n"
     ]
    }
   ],
   "source": [
    "# Import library yang dibutuhkan\n",
    "import os\n",
    "\n",
    "# Tentukan path folder yang berisi gambar\n",
    "folder_name = \"tempat-lilin\"\n",
    "folder_path = f\"../{folder_name}\"  \n",
    "\n",
    "# Tentukan prefix nama folder yang diinginkan\n",
    "folder_name = os.path.basename(folder_path)  # Mendapatkan nama folder dari path\n",
    "\n",
    "# Mendapatkan daftar semua file gambar di folder\n",
    "images = [f for f in os.listdir(folder_path) if f.endswith(\".jpg\") or f.endswith(\".jpeg\") or f.endswith(\".png\")]\n",
    "\n",
    "# Loop melalui semua gambar dan ganti namanya\n",
    "for i, filename in enumerate(images, start=1):\n",
    "    # Tentukan ekstensi file\n",
    "    file_extension = os.path.splitext(filename)[1]\n",
    "    \n",
    "    # Buat nama baru dengan format \"nama-folder-i\"\n",
    "    new_name = f\"{folder_name}-{i}{file_extension}\"\n",
    "    \n",
    "    # Tentukan path lama dan path baru\n",
    "    old_path = os.path.join(folder_path, filename)\n",
    "    new_path = os.path.join(folder_path, new_name)\n",
    "    \n",
    "    # Rename file\n",
    "    os.rename(old_path, new_path)\n",
    "\n",
    "print(f\"Semua gambar dalam folder {folder_name} telah berhasil di-rename.\")\n"
   ]
  },
  {
   "cell_type": "code",
   "execution_count": 4,
   "metadata": {},
   "outputs": [
    {
     "name": "stdout",
     "output_type": "stream",
     "text": [
      "Semua gambar dalam folder baju-bintang-bali telah berhasil di-rename dan dikonversi ke format .jpg.\n"
     ]
    }
   ],
   "source": [
    "# Import library yang dibutuhkan\n",
    "import os\n",
    "from PIL import Image\n",
    "\n",
    "# Tentukan path folder yang berisi gambar\n",
    "folder_name = \"baju-bintang-bali\"\n",
    "folder_path = f\"../{folder_name}\"  \n",
    "\n",
    "# Tentukan prefix nama folder yang diinginkan\n",
    "folder_name = os.path.basename(folder_path)  # Mendapatkan nama folder dari path\n",
    "\n",
    "# Mendefinisikan format gambar yang didukung\n",
    "supported_formats = ('.png', '.jpg', '.jpeg', '.bmp', '.tiff', '.webp')\n",
    "\n",
    "# Mendapatkan daftar semua file gambar di folder\n",
    "images = [f for f in os.listdir(folder_path) if f.lower().endswith(supported_formats)]\n",
    "\n",
    "# Loop melalui semua gambar dan ganti namanya\n",
    "for i, filename in enumerate(images, start=1):\n",
    "    # Tentukan path lama\n",
    "    old_path = os.path.join(folder_path, filename)\n",
    "\n",
    "    # Buat nama baru dengan format \"nama-folder-i.jpg\"\n",
    "    new_name = f\"{folder_name}-{i}.jpg\"\n",
    "    new_path = os.path.join(folder_path, new_name)\n",
    "\n",
    "    # Konversi file ke .jpg jika bukan .jpg\n",
    "    if not filename.lower().endswith('.jpg'):\n",
    "        with Image.open(old_path) as img:\n",
    "            # Konversi gambar ke RGB jika bukan RGB (mencegah error saat menyimpan ke JPG)\n",
    "            img = img.convert(\"RGB\")\n",
    "            img.save(new_path, format=\"JPEG\")  # Simpan gambar dalam format JPG\n",
    "        os.remove(old_path)  # Hapus file asli setelah konversi\n",
    "    else:\n",
    "        # Jika sudah .jpg, cukup rename\n",
    "        os.rename(old_path, new_path)\n",
    "\n",
    "print(f\"Semua gambar dalam folder {folder_name} telah berhasil di-rename dan dikonversi ke format .jpg.\")\n"
   ]
  },
  {
   "cell_type": "code",
   "execution_count": null,
   "metadata": {},
   "outputs": [],
   "source": []
  }
 ],
 "metadata": {
  "kernelspec": {
   "display_name": "Python 3",
   "language": "python",
   "name": "python3"
  },
  "language_info": {
   "codemirror_mode": {
    "name": "ipython",
    "version": 3
   },
   "file_extension": ".py",
   "mimetype": "text/x-python",
   "name": "python",
   "nbconvert_exporter": "python",
   "pygments_lexer": "ipython3",
   "version": "3.11.1"
  }
 },
 "nbformat": 4,
 "nbformat_minor": 2
}
