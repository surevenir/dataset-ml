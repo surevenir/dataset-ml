{
 "cells": [
  {
   "cell_type": "code",
   "execution_count": 12,
   "metadata": {},
   "outputs": [
    {
     "name": "stdout",
     "output_type": "stream",
     "text": [
      "Semua gambar dalam folder topeng-wijil telah berhasil di-rename.\n"
     ]
    }
   ],
   "source": [
    "# Import library yang dibutuhkan\n",
    "import os\n",
    "\n",
    "# Tentukan path folder yang berisi gambar\n",
    "folder_name = \"topeng-wijil\"\n",
    "folder_path = f\"../{folder_name}\"  \n",
    "\n",
    "# Tentukan prefix nama folder yang diinginkan\n",
    "folder_name = os.path.basename(folder_path)  # Mendapatkan nama folder dari path\n",
    "\n",
    "# Mendapatkan daftar semua file gambar di folder\n",
    "images = [f for f in os.listdir(folder_path) if f.endswith(\".jpg\") or f.endswith(\".jpeg\") or f.endswith(\".png\")]\n",
    "\n",
    "# Loop melalui semua gambar dan ganti namanya\n",
    "for i, filename in enumerate(images, start=1):\n",
    "    # Tentukan ekstensi file\n",
    "    file_extension = os.path.splitext(filename)[1]\n",
    "    \n",
    "    # Buat nama baru dengan format \"nama-folder-i\"\n",
    "    new_name = f\"{folder_name}-{i}{file_extension}\"\n",
    "    \n",
    "    # Tentukan path lama dan path baru\n",
    "    old_path = os.path.join(folder_path, filename)\n",
    "    new_path = os.path.join(folder_path, new_name)\n",
    "    \n",
    "    # Rename file\n",
    "    os.rename(old_path, new_path)\n",
    "\n",
    "print(f\"Semua gambar dalam folder {folder_name} telah berhasil di-rename.\")\n"
   ]
  }
 ],
 "metadata": {
  "kernelspec": {
   "display_name": "Python 3",
   "language": "python",
   "name": "python3"
  },
  "language_info": {
   "codemirror_mode": {
    "name": "ipython",
    "version": 3
   },
   "file_extension": ".py",
   "mimetype": "text/x-python",
   "name": "python",
   "nbconvert_exporter": "python",
   "pygments_lexer": "ipython3",
   "version": "3.11.5"
  }
 },
 "nbformat": 4,
 "nbformat_minor": 2
}
