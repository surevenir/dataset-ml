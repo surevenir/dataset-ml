{
 "cells": [
  {
   "cell_type": "code",
   "execution_count": 1,
   "metadata": {},
   "outputs": [],
   "source": [
    "import json\n",
    "import requests\n",
    "import os"
   ]
  },
  {
   "cell_type": "code",
   "execution_count": null,
   "metadata": {},
   "outputs": [],
   "source": [
    "nama_file = \"tes\""
   ]
  },
  {
   "cell_type": "code",
   "execution_count": null,
   "metadata": {},
   "outputs": [
    {
     "name": "stdout",
     "output_type": "stream",
     "text": [
      "Gambar berhasil diunduh: ./../downloaded_images\\image_1.jpg\n",
      "Gambar berhasil diunduh: ./../downloaded_images\\image_2.jpg\n",
      "Gambar berhasil diunduh: ./../downloaded_images\\image_3.jpg\n",
      "Gambar berhasil diunduh: ./../downloaded_images\\image_4.jpg\n",
      "Gambar berhasil diunduh: ./../downloaded_images\\image_5.jpg\n",
      "Semua gambar telah selesai diunduh.\n"
     ]
    }
   ],
   "source": [
    "full_nama_file = nama_file + \".json\"\n",
    "\n",
    "# Membaca file JSON\n",
    "with open('./../_image_url/'+ full_nama_file, 'r') as file:\n",
    "    data = json.load(file)\n",
    "\n",
    "# Direktori untuk menyimpan gambar\n",
    "output_dir = \"./../\" + \"nama_file\"\n",
    "os.makedirs(output_dir, exist_ok=True)\n",
    "\n",
    "# Mengunduh setiap gambar\n",
    "for index, item in enumerate(data):\n",
    "    image_url = item.get('imageUrl')\n",
    "    if image_url:\n",
    "        try:\n",
    "            response = requests.get(image_url, stream=True)\n",
    "            response.raise_for_status()  # Memastikan tidak ada error dalam permintaan\n",
    "            # Nama file gambar berdasarkan urutan\n",
    "            image_name = f\"image_{index + 1}.jpg\"\n",
    "            image_path = os.path.join(output_dir, image_name)\n",
    "            with open(image_path, 'wb') as image_file:\n",
    "                for chunk in response.iter_content(1024):\n",
    "                    image_file.write(chunk)\n",
    "            print(f\"Gambar berhasil diunduh: {image_path}\")\n",
    "        except requests.exceptions.RequestException as e:\n",
    "            print(f\"Error mengunduh {image_url}: {e}\")\n",
    "\n",
    "print(\"Semua gambar telah selesai diunduh.\")\n"
   ]
  },
  {
   "cell_type": "code",
   "execution_count": null,
   "metadata": {},
   "outputs": [],
   "source": []
  }
 ],
 "metadata": {
  "kernelspec": {
   "display_name": "Python 3",
   "language": "python",
   "name": "python3"
  },
  "language_info": {
   "codemirror_mode": {
    "name": "ipython",
    "version": 3
   },
   "file_extension": ".py",
   "mimetype": "text/x-python",
   "name": "python",
   "nbconvert_exporter": "python",
   "pygments_lexer": "ipython3",
   "version": "3.11.5"
  }
 },
 "nbformat": 4,
 "nbformat_minor": 2
}
