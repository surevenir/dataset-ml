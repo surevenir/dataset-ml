{
 "cells": [
  {
   "cell_type": "code",
   "execution_count": 1,
   "metadata": {},
   "outputs": [],
   "source": [
    "from rembg import remove\n",
    "from PIL import Image\n",
    "import io"
   ]
  },
  {
   "cell_type": "code",
   "execution_count": 4,
   "metadata": {},
   "outputs": [
    {
     "name": "stdout",
     "output_type": "stream",
     "text": [
      "Gambar telah selesai di remove background\n"
     ]
    }
   ],
   "source": [
    "\n",
    "# Membaca gambar\n",
    "with open(\"./image.jpg\", \"rb\") as file:\n",
    "    input_image = file.read()\n",
    "\n",
    "# Menghapus latar belakang\n",
    "output_image = remove(input_image)\n",
    "\n",
    "# Menyimpan hasil\n",
    "with open(\"output.png\", \"wb\") as file:\n",
    "    file.write(output_image)\n",
    "\n",
    "print(\"Gambar telah selesai di remove background\")"
   ]
  },
  {
   "cell_type": "markdown",
   "metadata": {},
   "source": [
    "Hapus BG tambahkan BG Putih"
   ]
  },
  {
   "cell_type": "code",
   "execution_count": 4,
   "metadata": {},
   "outputs": [
    {
     "name": "stdout",
     "output_type": "stream",
     "text": [
      "Processed 0377aff63704906fedd9eff6e149f02a.jpg -> D:\\DBangkitEssentials\\dataset-ml\\tempat-lilin\\1.png\n",
      "Processed 03c14c839e4d822ea5921972cc3b29a7.jpg -> D:\\DBangkitEssentials\\dataset-ml\\tempat-lilin\\2.png\n",
      "Processed 07a4676e9583b85c67e3ad2cdbd41e6e.jpg -> D:\\DBangkitEssentials\\dataset-ml\\tempat-lilin\\3.png\n",
      "Processed 08d609998e1416090d8c0f82d1349ee3.jpg -> D:\\DBangkitEssentials\\dataset-ml\\tempat-lilin\\4.png\n",
      "Processed 0f0197d67c2516470377677de75129d8.jpg -> D:\\DBangkitEssentials\\dataset-ml\\tempat-lilin\\5.png\n",
      "Processed 1ebd499dc617ab6361c51252350ffc37.jpg -> D:\\DBangkitEssentials\\dataset-ml\\tempat-lilin\\6.png\n",
      "Processed 2a7834550d31fb495399397d48fa1ab7.jpg -> D:\\DBangkitEssentials\\dataset-ml\\tempat-lilin\\7.png\n",
      "Processed 30105ae535f0702f857aa31af5a942ca.jpg -> D:\\DBangkitEssentials\\dataset-ml\\tempat-lilin\\8.png\n",
      "Processed 32f6f4882f946296d0c3bd22b7cfada4.jpg -> D:\\DBangkitEssentials\\dataset-ml\\tempat-lilin\\9.png\n",
      "Processed 34e2a9a1c46eab4e2b0956b92b115e5e.jpg -> D:\\DBangkitEssentials\\dataset-ml\\tempat-lilin\\10.png\n",
      "Processed 3a662ccdba41ee4cc34541d4b5764b82.jpg -> D:\\DBangkitEssentials\\dataset-ml\\tempat-lilin\\11.png\n",
      "Processed 471b7896068afa9efc1a3593de9044b1.jpg -> D:\\DBangkitEssentials\\dataset-ml\\tempat-lilin\\12.png\n",
      "Processed 4d4116d7dabf23900ce822a4d7967e38.jpg -> D:\\DBangkitEssentials\\dataset-ml\\tempat-lilin\\13.png\n",
      "Processed 4d6b5d19719e05991cd85f4e9f5296ff.jpg -> D:\\DBangkitEssentials\\dataset-ml\\tempat-lilin\\14.png\n",
      "Processed 4e617b93b33ac2c38a6b7dd179e4488a.jpg -> D:\\DBangkitEssentials\\dataset-ml\\tempat-lilin\\15.png\n",
      "Processed 543877afb31783834e9ec32321d3b9bc.jpg -> D:\\DBangkitEssentials\\dataset-ml\\tempat-lilin\\16.png\n",
      "Processed 563285689d9e3be83cd2ea883d9ec836.jpg -> D:\\DBangkitEssentials\\dataset-ml\\tempat-lilin\\17.png\n",
      "Processed 5a7a023b096e3e789249b22fb9a6b871.jpg -> D:\\DBangkitEssentials\\dataset-ml\\tempat-lilin\\18.png\n",
      "Processed 5eb4b4f7cc200d18f6b95d960cfeb824.jpg -> D:\\DBangkitEssentials\\dataset-ml\\tempat-lilin\\19.png\n",
      "Processed 5fa8ed3c254de983d8c11db6aa3ef819.jpg -> D:\\DBangkitEssentials\\dataset-ml\\tempat-lilin\\20.png\n",
      "Processed 642ff343b7de6ccab872d63c109f8c0d.jpg -> D:\\DBangkitEssentials\\dataset-ml\\tempat-lilin\\21.png\n",
      "Processed 77908d7692881e19c350ead2cc33af07.jpg -> D:\\DBangkitEssentials\\dataset-ml\\tempat-lilin\\22.png\n",
      "Processed 90c2bb8dc754882d604169f605057be7.jpg -> D:\\DBangkitEssentials\\dataset-ml\\tempat-lilin\\23.png\n",
      "Processed 947f72dba11effa44b2627dc8a2ab837.jpg -> D:\\DBangkitEssentials\\dataset-ml\\tempat-lilin\\24.png\n",
      "Processed 99c3286e2f5c01a45754fd5c96787208.jpg -> D:\\DBangkitEssentials\\dataset-ml\\tempat-lilin\\25.png\n",
      "Processed b0072189ef045087b92703eb4a658317.jpg -> D:\\DBangkitEssentials\\dataset-ml\\tempat-lilin\\26.png\n",
      "Processed b7430daece56032cc8d08d1cf08c59a5.jpg -> D:\\DBangkitEssentials\\dataset-ml\\tempat-lilin\\27.png\n",
      "Processed bd86ad3c4bdb6c3da57c278feb451a76.jpg -> D:\\DBangkitEssentials\\dataset-ml\\tempat-lilin\\28.png\n",
      "Processed bdea2c936121ef1361b331fb7f6159b6.jpg -> D:\\DBangkitEssentials\\dataset-ml\\tempat-lilin\\29.png\n",
      "Processed ea651f4ee1a352e8171f2a5f1da17677.jpg -> D:\\DBangkitEssentials\\dataset-ml\\tempat-lilin\\30.png\n",
      "Semua gambar selesai diproses.\n"
     ]
    }
   ],
   "source": [
    "import os\n",
    "from rembg import remove\n",
    "from PIL import Image, ImageOps\n",
    "\n",
    "# Direktori input dan output relatif ke lokasi skrip\n",
    "input_folder = \"D:\\DBangkitEssentials\\dataset-ml\\lilinbal\"\n",
    "output_folder = \"D:\\DBangkitEssentials\\dataset-ml\\\\tempat-lilin\"\n",
    "\n",
    "# Membuat folder output jika belum ada\n",
    "os.makedirs(output_folder, exist_ok=True)\n",
    "\n",
    "# Mendapatkan daftar file dalam folder input\n",
    "file_list = os.listdir(input_folder)\n",
    "\n",
    "# Memproses setiap file dalam folder\n",
    "for index, file_name in enumerate(file_list, start=1):\n",
    "    input_path = os.path.join(input_folder, file_name)\n",
    "\n",
    "    # Memastikan hanya memproses file dengan format gambar\n",
    "    if os.path.isfile(input_path) and file_name.lower().endswith(('.png', '.jpg', '.jpeg', '.bmp', '.tiff')):\n",
    "        with open(input_path, \"rb\") as input_file:\n",
    "            input_image = input_file.read()\n",
    "            output_image = remove(input_image)  # Hapus latar belakang\n",
    "\n",
    "        # Membuka gambar hasil sebagai objek Pillow\n",
    "        image = Image.open(io.BytesIO(output_image)).convert(\"RGBA\")\n",
    "        \n",
    "        # Membuat latar belakang putih\n",
    "        white_bg = Image.new(\"RGBA\", image.size, (255, 255, 255, 255))  # Warna putih\n",
    "        final_image = Image.alpha_composite(white_bg, image).convert(\"RGB\")\n",
    "\n",
    "        # Menyimpan hasil dengan nama berurutan\n",
    "        output_path = os.path.join(output_folder, f\"{index}.png\")\n",
    "        final_image.save(output_path, \"PNG\")\n",
    "        print(f\"Processed {file_name} -> {output_path}\")\n",
    "\n",
    "print(\"Semua gambar selesai diproses.\")\n"
   ]
  },
  {
   "cell_type": "code",
   "execution_count": null,
   "metadata": {},
   "outputs": [],
   "source": []
  }
 ],
 "metadata": {
  "kernelspec": {
   "display_name": "Python 3",
   "language": "python",
   "name": "python3"
  },
  "language_info": {
   "codemirror_mode": {
    "name": "ipython",
    "version": 3
   },
   "file_extension": ".py",
   "mimetype": "text/x-python",
   "name": "python",
   "nbconvert_exporter": "python",
   "pygments_lexer": "ipython3",
   "version": "3.11.1"
  }
 },
 "nbformat": 4,
 "nbformat_minor": 2
}
