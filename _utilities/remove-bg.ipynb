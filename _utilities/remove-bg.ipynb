{
 "cells": [
  {
   "cell_type": "code",
   "execution_count": 1,
   "metadata": {},
   "outputs": [],
   "source": [
    "from rembg import remove\n",
    "from PIL import Image\n",
    "import io"
   ]
  },
  {
   "cell_type": "code",
   "execution_count": 4,
   "metadata": {},
   "outputs": [
    {
     "name": "stdout",
     "output_type": "stream",
     "text": [
      "Gambar telah selesai di remove background\n"
     ]
    }
   ],
   "source": [
    "\n",
    "# Membaca gambar\n",
    "with open(\"./image.jpg\", \"rb\") as file:\n",
    "    input_image = file.read()\n",
    "\n",
    "# Menghapus latar belakang\n",
    "output_image = remove(input_image)\n",
    "\n",
    "# Menyimpan hasil\n",
    "with open(\"output.png\", \"wb\") as file:\n",
    "    file.write(output_image)\n",
    "\n",
    "print(\"Gambar telah selesai di remove background\")"
   ]
  },
  {
   "cell_type": "code",
   "execution_count": null,
   "metadata": {},
   "outputs": [],
   "source": []
  }
 ],
 "metadata": {
  "kernelspec": {
   "display_name": "Python 3",
   "language": "python",
   "name": "python3"
  },
  "language_info": {
   "codemirror_mode": {
    "name": "ipython",
    "version": 3
   },
   "file_extension": ".py",
   "mimetype": "text/x-python",
   "name": "python",
   "nbconvert_exporter": "python",
   "pygments_lexer": "ipython3",
   "version": "3.11.5"
  }
 },
 "nbformat": 4,
 "nbformat_minor": 2
}
