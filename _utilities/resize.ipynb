{
 "cells": [
  {
   "cell_type": "code",
   "execution_count": null,
   "metadata": {},
   "outputs": [
    {
     "name": "stdout",
     "output_type": "stream",
     "text": [
      "Semua gambar telah diubah ukurannya dan disimpan di folder 'resize'.\n"
     ]
    }
   ],
   "source": [
    "# Import libraries\n",
    "from PIL import Image\n",
    "import os\n",
    "\n",
    "input_folder = \"wijil\"  \n",
    "output_folder = \"wijil-resize\"\n",
    "\n",
    "os.makedirs(output_folder, exist_ok=True)\n",
    "\n",
    "for filename in os.listdir(input_folder):\n",
    "    # Periksa apakah file adalah gambar\n",
    "    if filename.endswith(\".jpg\") or filename.endswith(\".jpeg\") or filename.endswith(\".png\"):\n",
    "        # Buka gambar\n",
    "        img_path = os.path.join(input_folder, filename)\n",
    "        img = Image.open(img_path)\n",
    "        \n",
    "        # Resize gambar ke 224x224 piksel\n",
    "        img_resized = img.resize((224, 224))\n",
    "        \n",
    "        # Simpan gambar ke folder output\n",
    "        output_path = os.path.join(output_folder, filename)\n",
    "        img_resized.save(output_path)\n",
    "\n",
    "print(\"Semua gambar telah diubah ukurannya dan disimpan di folder 'resize'.\")\n"
   ]
  }
 ],
 "metadata": {
  "kernelspec": {
   "display_name": "Python 3",
   "language": "python",
   "name": "python3"
  },
  "language_info": {
   "codemirror_mode": {
    "name": "ipython",
    "version": 3
   },
   "file_extension": ".py",
   "mimetype": "text/x-python",
   "name": "python",
   "nbconvert_exporter": "python",
   "pygments_lexer": "ipython3",
   "version": "3.11.5"
  }
 },
 "nbformat": 4,
 "nbformat_minor": 2
}
